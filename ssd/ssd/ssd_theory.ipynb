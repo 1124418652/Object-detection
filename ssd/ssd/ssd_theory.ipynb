{
 "cells": [
  {
   "cell_type": "markdown",
   "metadata": {},
   "source": [
    "## 一、生成搜索网格 Anchor Boxes\n",
    "SSD网络的一个关键点是生成搜索网格（anchor boxes），SSD会在卷积网络的4、7、8、9、10、11这六层的特征图中生成锚框，数据如下：  \n",
    "\n",
    "层数 | 卷积后特征的大小 | 锚框增强比例 | 单个网格增强得到的锚框数目 | 总锚框数\n",
    "- | :-: | :-: | :-: | :-:\n",
    "4 | [38, 38] | [2, 0.5] | 4 | 4 x 38 x 38\n",
    "7 | [19, 19] | [2, 0.5, 3, 1/3] | 6 | 6 x 19 x 19\n",
    "8|\t[10,10]|\t[2,0.5,3,1/3]|\t6\t|6 x 10 x 10\n",
    "9\t|[5,5]\t|[2,0.5,3,1/3]|\t6\t|6 x 5 x 5\n",
    "10\t|[3,3]|\t[2,0.5]|\t4|\t4 x 3 x 3\n",
    "11|\t[1,1]\t|[2,0.5]|\t4\t|4 x 1 x 1"
   ]
  },
  {
   "cell_type": "code",
   "execution_count": null,
   "metadata": {},
   "outputs": [],
   "source": []
  }
 ],
 "metadata": {
  "kernelspec": {
   "display_name": "Python 3",
   "language": "python",
   "name": "python3"
  },
  "language_info": {
   "codemirror_mode": {
    "name": "ipython",
    "version": 3
   },
   "file_extension": ".py",
   "mimetype": "text/x-python",
   "name": "python",
   "nbconvert_exporter": "python",
   "pygments_lexer": "ipython3",
   "version": "3.6.8"
  }
 },
 "nbformat": 4,
 "nbformat_minor": 2
}
